{
 "cells": [
  {
   "cell_type": "code",
   "execution_count": null,
   "metadata": {},
   "outputs": [],
   "source": [
    "#| hide\n",
    "from InFE.core import *"
   ]
  },
  {
   "cell_type": "markdown",
   "metadata": {},
   "source": [
    "# InFE\n",
    "\n",
    "> Repository on Statistical Shape Models"
   ]
  },
  {
   "cell_type": "markdown",
   "metadata": {},
   "source": [
    "Individualized FE repo. \n",
    "\n",
    "The aim of this project is to create a open source workflow to create Statistical Shape Models (SSMT).  By segmenting volume from human test samples and morphing a FE model to the segmented volume through Landmarks. \n",
    "Different morphed volumes are then alugned in space with General Procrustes Analysis. Pricipal Component Analysis (PCA) is performed on the morphed mesh to extract the principal components.\n",
    "From this point,the component extracted from PCA and features from the specific subject (such as age, sex .. ) will be mapped through a regression model to create a statistical shape model. \n",
    "\n",
    "So the project is divided in different speps such: \n",
    "\n",
    "- Segmentation and Landmarking from 3D slicer\n",
    "- Morphing with pygem\n",
    "- General Procrustes Analysis (GPA) with scipy\n",
    "- Principal Component Analysis (PCA) with scikit-learn\n",
    "- Regression with scikit-learn\n",
    "--> Subject FE"
   ]
  },
  {
   "cell_type": "markdown",
   "metadata": {},
   "source": [
    "## Install"
   ]
  },
  {
   "cell_type": "markdown",
   "metadata": {},
   "source": [
    "```sh\n",
    "pip install InFE\n",
    "```"
   ]
  },
  {
   "cell_type": "markdown",
   "metadata": {},
   "source": [
    "## How to use"
   ]
  },
  {
   "cell_type": "markdown",
   "metadata": {},
   "source": [
    "Fill me in please! Don't forget code examples:"
   ]
  },
  {
   "cell_type": "code",
   "execution_count": null,
   "metadata": {},
   "outputs": [
    {
     "data": {
      "text/plain": [
       "2"
      ]
     },
     "execution_count": null,
     "metadata": {},
     "output_type": "execute_result"
    }
   ],
   "source": [
    "1+1"
   ]
  },
  {
   "cell_type": "code",
   "execution_count": null,
   "metadata": {},
   "outputs": [],
   "source": []
  }
 ],
 "metadata": {
  "kernelspec": {
   "display_name": "Python 3.8.10 64-bit",
   "language": "python",
   "name": "python3"
  }
 },
 "nbformat": 4,
 "nbformat_minor": 4
}
