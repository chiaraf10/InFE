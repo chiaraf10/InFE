{
 "cells": [
  {
   "cell_type": "markdown",
   "metadata": {},
   "source": [
    "# Segmentation & Landmarking\n",
    "\n",
    "> Segmentation and Landmarking Tutorial\n"
   ]
  },
  {
   "cell_type": "code",
   "execution_count": null,
   "metadata": {},
   "outputs": [],
   "source": [
    "#| default_exp Segmentation"
   ]
  },
  {
   "cell_type": "markdown",
   "metadata": {},
   "source": [
    "# Segmentation\n",
    "\n",
    "- ## Load the volume\n",
    "    - On the upper left, click on DCM, Under section \"Reload & Test\", click on \"Import DICOM files\". Choose the files from the directory. \n",
    "    - On the import DICOM page, under in the \"Series\" option, select the volume to import and click on Examine, then Load. \n",
    "\n",
    "- ## Crop the Volume\n",
    "\n",
    "    - Press the lens button (in the upper part of the window) and search for the Module \"Crop Volume\" and Switch to Module.\n",
    "    - In the menu on the right, under section IO, select the Input Volume, select the volume just loaded. \n",
    "    - In the Input ROI: select \"Create a new ROI\"\n",
    "    - In the Advance section, Tick the \"interpolated cropping\" and \"Isotropic Spacing\".\n",
    "    - Now move around the box in the different views to select only the volume of interest & Apply.\n",
    "    - From now on the ROI markers are of no use. On the Data module, click on the eye button, to make the ROI invisible.  Will make it easy to work with the next steps.\n",
    "\n",
    "- ## Volume Module.\n",
    "\n",
    "    -  Under Display setting, select the CT-bone set up (The first on the left), Threshold level should be around [W:1000,L:400]\n",
    "    \n",
    "- ## Segment editor module.\n",
    "\n",
    "    - on the Segmentation Module, on the right click on the \"Add\" button. Let´s add 2 segment, one for the bone to segment (i.d. \"Humerus\"), and the other for everything else (i.d. \"Other). Double click on them to rename them. \n",
    "    - In the option, select the \"Treshold\", select a level between [160,2976] and click on \"Use for Masking\". (The optimal level is whem the area highlighted is the bone, but not the surrounding tissues. Be careful on not outfilter some of the interested are. It´s better to have some surrounding tissue rather than erase some interested areas).\n",
    "    - Let´s use semi-automatic segmentation. Go to \"Grow from Seeds\" and click on Initialize.\n",
    "    - Go to the brush option and paint on the single slice views, several slices for view. The more time spent in this part, the better the segmentation will be. Make sure to color for both the segments to help the module to differentiate the parts. \n",
    "    - After, go back to \"Grown from Seeds\" and click on Apply. Click on \"Show 3D\" to render the 3D view. \n",
    "    - Toggle the visibility of the \"Other\" segment to assess the segmentation. \n",
    "        \n",
    "        - If unsatisfied or the segmentation present holes, go back to the Treshold and vary the the threshold level. Click again on Use for masking. Go to Grow from seed \"Initialize\", to the paint option and color the missing parts. Click on apply, to have an updated version of the segmentation. \n",
    "        \n",
    "\n",
    "    - Once done with the segmentation, if there are some spikes use the \"Scissor\" setting to cut out the smaller island. Make sure you have the segment selected when cutting out the island for that segment. \n",
    "    - To smooth out the surface, go on the \"Smoothing\" option and apply a \"Median\" filter to smooth out the surface (use a small kernel of 2/3 mm).\n",
    "    - Use also the filter \"Closing - Fill holes\", this time select an higher kernel (5/6 mm ). To address single spots, under the setting \"Smoothing brush option\", click on Edit in 3D view to paint in 3D view and close the local holes.\n",
    "\n",
    "    - If satisfied with the segmentation, go on the Data Module, Under the Segmentation hierarchy, right-click on the Bone segment and Export to file. Choose the STL version. \n",
    "    \n",
    "\n"
   ]
  },
  {
   "cell_type": "markdown",
   "metadata": {},
   "source": [
    "# Landmarking"
   ]
  },
  {
   "cell_type": "code",
   "execution_count": null,
   "metadata": {},
   "outputs": [],
   "source": [
    "#| hide\n",
    "from nbdev.showdoc import *"
   ]
  },
  {
   "cell_type": "code",
   "execution_count": null,
   "metadata": {},
   "outputs": [],
   "source": [
    "#| hide\n",
    "import nbdev; nbdev.nbdev_export()"
   ]
  }
 ],
 "metadata": {
  "kernelspec": {
   "display_name": "Python 3.8.10 64-bit",
   "language": "python",
   "name": "python3"
  }
 },
 "nbformat": 4,
 "nbformat_minor": 4
}
